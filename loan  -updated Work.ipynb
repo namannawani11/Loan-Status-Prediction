{
 "cells": [
  {
   "cell_type": "raw",
   "id": "6462a9c2",
   "metadata": {},
   "source": [
    "Variable\tDescription\n",
    "Loan_ID\tUnique Loan ID\n",
    "Gender\tMale/ Female\n",
    "Married\tApplicant married (Y/N)\n",
    "Dependents\tNumber of dependents\n",
    "Education\tApplicant Education (Graduate/ Under Graduate)\n",
    "Self_Employed\tSelf employed (Y/N)\n",
    "ApplicantIncome\tApplicant income\n",
    "CoapplicantIncome\tCoapplicant income\n",
    "LoanAmount\tLoan amount in thousands\n",
    "Loan_Amount_Term\tTerm of loan in months\n",
    "Credit_History\tcredit history meets guidelines\n",
    "Property_Area\tUrban/ Semi Urban/ Rural\n",
    "\n",
    "\n",
    "Submission file format\n",
    "\n",
    "Variable\tDescription\n",
    "Loan_ID\tUnique Loan ID\n",
    "Loan_Status\t(Target) Loan approved (Y/N)"
   ]
  },
  {
   "cell_type": "code",
   "execution_count": 84,
   "id": "470d6ccf",
   "metadata": {},
   "outputs": [],
   "source": [
    "import numpy as np\n",
    "import pandas as pd\n",
    "import matplotlib.pyplot as plt\n",
    "import seaborn as sns\n",
    "import scipy.stats as stats\n",
    "import statsmodels.formula.api as sfa\n",
    "import statsmodels.api as smodels\n",
    "from sklearn.feature_selection import RFE\n",
    "from sklearn.model_selection import train_test_split\n",
    "import warnings\n",
    "\n",
    "warnings.filterwarnings('ignore')\n",
    "from sklearn.linear_model import LogisticRegression\n",
    "from sklearn.ensemble import GradientBoostingClassifier,RandomForestClassifier\n",
    "from sklearn.model_selection import train_test_split\n",
    "from sklearn.model_selection import cross_val_score\n",
    "from sklearn.metrics import confusion_matrix,classification_report\n",
    "from sklearn.linear_model import LogisticRegression\n",
    "from sklearn.model_selection import train_test_split,GridSearchCV\n",
    "from sklearn.metrics import accuracy_score,confusion_matrix,roc_auc_score,roc_curve\n",
    "from sklearn.ensemble import AdaBoostClassifier"
   ]
  },
  {
   "cell_type": "code",
   "execution_count": 43,
   "id": "3fcd3ae2",
   "metadata": {},
   "outputs": [
    {
     "data": {
      "text/html": [
       "<div>\n",
       "<style scoped>\n",
       "    .dataframe tbody tr th:only-of-type {\n",
       "        vertical-align: middle;\n",
       "    }\n",
       "\n",
       "    .dataframe tbody tr th {\n",
       "        vertical-align: top;\n",
       "    }\n",
       "\n",
       "    .dataframe thead th {\n",
       "        text-align: right;\n",
       "    }\n",
       "</style>\n",
       "<table border=\"1\" class=\"dataframe\">\n",
       "  <thead>\n",
       "    <tr style=\"text-align: right;\">\n",
       "      <th></th>\n",
       "      <th>Loan_ID</th>\n",
       "      <th>Gender</th>\n",
       "      <th>Married</th>\n",
       "      <th>Dependents</th>\n",
       "      <th>Education</th>\n",
       "      <th>Self_Employed</th>\n",
       "      <th>ApplicantIncome</th>\n",
       "      <th>CoapplicantIncome</th>\n",
       "      <th>LoanAmount</th>\n",
       "      <th>Loan_Amount_Term</th>\n",
       "      <th>Credit_History</th>\n",
       "      <th>Property_Area</th>\n",
       "      <th>Loan_Status</th>\n",
       "    </tr>\n",
       "  </thead>\n",
       "  <tbody>\n",
       "    <tr>\n",
       "      <th>0</th>\n",
       "      <td>LP001002</td>\n",
       "      <td>Male</td>\n",
       "      <td>No</td>\n",
       "      <td>0</td>\n",
       "      <td>Graduate</td>\n",
       "      <td>No</td>\n",
       "      <td>5849</td>\n",
       "      <td>0.0</td>\n",
       "      <td>NaN</td>\n",
       "      <td>360.0</td>\n",
       "      <td>1.0</td>\n",
       "      <td>Urban</td>\n",
       "      <td>Y</td>\n",
       "    </tr>\n",
       "    <tr>\n",
       "      <th>1</th>\n",
       "      <td>LP001003</td>\n",
       "      <td>Male</td>\n",
       "      <td>Yes</td>\n",
       "      <td>1</td>\n",
       "      <td>Graduate</td>\n",
       "      <td>No</td>\n",
       "      <td>4583</td>\n",
       "      <td>1508.0</td>\n",
       "      <td>128.0</td>\n",
       "      <td>360.0</td>\n",
       "      <td>1.0</td>\n",
       "      <td>Rural</td>\n",
       "      <td>N</td>\n",
       "    </tr>\n",
       "    <tr>\n",
       "      <th>2</th>\n",
       "      <td>LP001005</td>\n",
       "      <td>Male</td>\n",
       "      <td>Yes</td>\n",
       "      <td>0</td>\n",
       "      <td>Graduate</td>\n",
       "      <td>Yes</td>\n",
       "      <td>3000</td>\n",
       "      <td>0.0</td>\n",
       "      <td>66.0</td>\n",
       "      <td>360.0</td>\n",
       "      <td>1.0</td>\n",
       "      <td>Urban</td>\n",
       "      <td>Y</td>\n",
       "    </tr>\n",
       "    <tr>\n",
       "      <th>3</th>\n",
       "      <td>LP001006</td>\n",
       "      <td>Male</td>\n",
       "      <td>Yes</td>\n",
       "      <td>0</td>\n",
       "      <td>Not Graduate</td>\n",
       "      <td>No</td>\n",
       "      <td>2583</td>\n",
       "      <td>2358.0</td>\n",
       "      <td>120.0</td>\n",
       "      <td>360.0</td>\n",
       "      <td>1.0</td>\n",
       "      <td>Urban</td>\n",
       "      <td>Y</td>\n",
       "    </tr>\n",
       "    <tr>\n",
       "      <th>4</th>\n",
       "      <td>LP001008</td>\n",
       "      <td>Male</td>\n",
       "      <td>No</td>\n",
       "      <td>0</td>\n",
       "      <td>Graduate</td>\n",
       "      <td>No</td>\n",
       "      <td>6000</td>\n",
       "      <td>0.0</td>\n",
       "      <td>141.0</td>\n",
       "      <td>360.0</td>\n",
       "      <td>1.0</td>\n",
       "      <td>Urban</td>\n",
       "      <td>Y</td>\n",
       "    </tr>\n",
       "  </tbody>\n",
       "</table>\n",
       "</div>"
      ],
      "text/plain": [
       "    Loan_ID Gender Married Dependents     Education Self_Employed  \\\n",
       "0  LP001002   Male      No          0      Graduate            No   \n",
       "1  LP001003   Male     Yes          1      Graduate            No   \n",
       "2  LP001005   Male     Yes          0      Graduate           Yes   \n",
       "3  LP001006   Male     Yes          0  Not Graduate            No   \n",
       "4  LP001008   Male      No          0      Graduate            No   \n",
       "\n",
       "   ApplicantIncome  CoapplicantIncome  LoanAmount  Loan_Amount_Term  \\\n",
       "0             5849                0.0         NaN             360.0   \n",
       "1             4583             1508.0       128.0             360.0   \n",
       "2             3000                0.0        66.0             360.0   \n",
       "3             2583             2358.0       120.0             360.0   \n",
       "4             6000                0.0       141.0             360.0   \n",
       "\n",
       "   Credit_History Property_Area Loan_Status  \n",
       "0             1.0         Urban           Y  \n",
       "1             1.0         Rural           N  \n",
       "2             1.0         Urban           Y  \n",
       "3             1.0         Urban           Y  \n",
       "4             1.0         Urban           Y  "
      ]
     },
     "execution_count": 43,
     "metadata": {},
     "output_type": "execute_result"
    }
   ],
   "source": [
    "df=pd.read_csv('C:/Users/Naman/Downloads/naman python/ana lytics/loan prediction/train_ctrUa4K (2).csv')\n",
    "df.head()      "
   ]
  },
  {
   "cell_type": "code",
   "execution_count": 44,
   "id": "ccba7253",
   "metadata": {},
   "outputs": [
    {
     "data": {
      "text/plain": [
       "(614, 13)"
      ]
     },
     "execution_count": 44,
     "metadata": {},
     "output_type": "execute_result"
    }
   ],
   "source": [
    "df.shape"
   ]
  },
  {
   "cell_type": "code",
   "execution_count": 45,
   "id": "ead9a4c5",
   "metadata": {},
   "outputs": [
    {
     "data": {
      "text/plain": [
       "Loan_ID               object\n",
       "Gender                object\n",
       "Married               object\n",
       "Dependents            object\n",
       "Education             object\n",
       "Self_Employed         object\n",
       "ApplicantIncome        int64\n",
       "CoapplicantIncome    float64\n",
       "LoanAmount           float64\n",
       "Loan_Amount_Term     float64\n",
       "Credit_History       float64\n",
       "Property_Area         object\n",
       "Loan_Status           object\n",
       "dtype: object"
      ]
     },
     "execution_count": 45,
     "metadata": {},
     "output_type": "execute_result"
    }
   ],
   "source": [
    "df.dtypes"
   ]
  },
  {
   "cell_type": "code",
   "execution_count": 46,
   "id": "d7a6daee",
   "metadata": {},
   "outputs": [
    {
     "data": {
      "text/html": [
       "<div>\n",
       "<style scoped>\n",
       "    .dataframe tbody tr th:only-of-type {\n",
       "        vertical-align: middle;\n",
       "    }\n",
       "\n",
       "    .dataframe tbody tr th {\n",
       "        vertical-align: top;\n",
       "    }\n",
       "\n",
       "    .dataframe thead th {\n",
       "        text-align: right;\n",
       "    }\n",
       "</style>\n",
       "<table border=\"1\" class=\"dataframe\">\n",
       "  <thead>\n",
       "    <tr style=\"text-align: right;\">\n",
       "      <th></th>\n",
       "      <th>Loan_ID</th>\n",
       "      <th>Gender</th>\n",
       "      <th>Married</th>\n",
       "      <th>Dependents</th>\n",
       "      <th>Education</th>\n",
       "      <th>Self_Employed</th>\n",
       "      <th>Property_Area</th>\n",
       "      <th>Loan_Status</th>\n",
       "    </tr>\n",
       "  </thead>\n",
       "  <tbody>\n",
       "    <tr>\n",
       "      <th>0</th>\n",
       "      <td>LP001002</td>\n",
       "      <td>Male</td>\n",
       "      <td>No</td>\n",
       "      <td>0</td>\n",
       "      <td>Graduate</td>\n",
       "      <td>No</td>\n",
       "      <td>Urban</td>\n",
       "      <td>Y</td>\n",
       "    </tr>\n",
       "    <tr>\n",
       "      <th>1</th>\n",
       "      <td>LP001003</td>\n",
       "      <td>Male</td>\n",
       "      <td>Yes</td>\n",
       "      <td>1</td>\n",
       "      <td>Graduate</td>\n",
       "      <td>No</td>\n",
       "      <td>Rural</td>\n",
       "      <td>N</td>\n",
       "    </tr>\n",
       "    <tr>\n",
       "      <th>2</th>\n",
       "      <td>LP001005</td>\n",
       "      <td>Male</td>\n",
       "      <td>Yes</td>\n",
       "      <td>0</td>\n",
       "      <td>Graduate</td>\n",
       "      <td>Yes</td>\n",
       "      <td>Urban</td>\n",
       "      <td>Y</td>\n",
       "    </tr>\n",
       "    <tr>\n",
       "      <th>3</th>\n",
       "      <td>LP001006</td>\n",
       "      <td>Male</td>\n",
       "      <td>Yes</td>\n",
       "      <td>0</td>\n",
       "      <td>Not Graduate</td>\n",
       "      <td>No</td>\n",
       "      <td>Urban</td>\n",
       "      <td>Y</td>\n",
       "    </tr>\n",
       "    <tr>\n",
       "      <th>4</th>\n",
       "      <td>LP001008</td>\n",
       "      <td>Male</td>\n",
       "      <td>No</td>\n",
       "      <td>0</td>\n",
       "      <td>Graduate</td>\n",
       "      <td>No</td>\n",
       "      <td>Urban</td>\n",
       "      <td>Y</td>\n",
       "    </tr>\n",
       "    <tr>\n",
       "      <th>...</th>\n",
       "      <td>...</td>\n",
       "      <td>...</td>\n",
       "      <td>...</td>\n",
       "      <td>...</td>\n",
       "      <td>...</td>\n",
       "      <td>...</td>\n",
       "      <td>...</td>\n",
       "      <td>...</td>\n",
       "    </tr>\n",
       "    <tr>\n",
       "      <th>609</th>\n",
       "      <td>LP002978</td>\n",
       "      <td>Female</td>\n",
       "      <td>No</td>\n",
       "      <td>0</td>\n",
       "      <td>Graduate</td>\n",
       "      <td>No</td>\n",
       "      <td>Rural</td>\n",
       "      <td>Y</td>\n",
       "    </tr>\n",
       "    <tr>\n",
       "      <th>610</th>\n",
       "      <td>LP002979</td>\n",
       "      <td>Male</td>\n",
       "      <td>Yes</td>\n",
       "      <td>3+</td>\n",
       "      <td>Graduate</td>\n",
       "      <td>No</td>\n",
       "      <td>Rural</td>\n",
       "      <td>Y</td>\n",
       "    </tr>\n",
       "    <tr>\n",
       "      <th>611</th>\n",
       "      <td>LP002983</td>\n",
       "      <td>Male</td>\n",
       "      <td>Yes</td>\n",
       "      <td>1</td>\n",
       "      <td>Graduate</td>\n",
       "      <td>No</td>\n",
       "      <td>Urban</td>\n",
       "      <td>Y</td>\n",
       "    </tr>\n",
       "    <tr>\n",
       "      <th>612</th>\n",
       "      <td>LP002984</td>\n",
       "      <td>Male</td>\n",
       "      <td>Yes</td>\n",
       "      <td>2</td>\n",
       "      <td>Graduate</td>\n",
       "      <td>No</td>\n",
       "      <td>Urban</td>\n",
       "      <td>Y</td>\n",
       "    </tr>\n",
       "    <tr>\n",
       "      <th>613</th>\n",
       "      <td>LP002990</td>\n",
       "      <td>Female</td>\n",
       "      <td>No</td>\n",
       "      <td>0</td>\n",
       "      <td>Graduate</td>\n",
       "      <td>Yes</td>\n",
       "      <td>Semiurban</td>\n",
       "      <td>N</td>\n",
       "    </tr>\n",
       "  </tbody>\n",
       "</table>\n",
       "<p>614 rows × 8 columns</p>\n",
       "</div>"
      ],
      "text/plain": [
       "      Loan_ID  Gender Married Dependents     Education Self_Employed  \\\n",
       "0    LP001002    Male      No          0      Graduate            No   \n",
       "1    LP001003    Male     Yes          1      Graduate            No   \n",
       "2    LP001005    Male     Yes          0      Graduate           Yes   \n",
       "3    LP001006    Male     Yes          0  Not Graduate            No   \n",
       "4    LP001008    Male      No          0      Graduate            No   \n",
       "..        ...     ...     ...        ...           ...           ...   \n",
       "609  LP002978  Female      No          0      Graduate            No   \n",
       "610  LP002979    Male     Yes         3+      Graduate            No   \n",
       "611  LP002983    Male     Yes          1      Graduate            No   \n",
       "612  LP002984    Male     Yes          2      Graduate            No   \n",
       "613  LP002990  Female      No          0      Graduate           Yes   \n",
       "\n",
       "    Property_Area Loan_Status  \n",
       "0           Urban           Y  \n",
       "1           Rural           N  \n",
       "2           Urban           Y  \n",
       "3           Urban           Y  \n",
       "4           Urban           Y  \n",
       "..            ...         ...  \n",
       "609         Rural           Y  \n",
       "610         Rural           Y  \n",
       "611         Urban           Y  \n",
       "612         Urban           Y  \n",
       "613     Semiurban           N  \n",
       "\n",
       "[614 rows x 8 columns]"
      ]
     },
     "execution_count": 46,
     "metadata": {},
     "output_type": "execute_result"
    }
   ],
   "source": [
    "cat=df.select_dtypes(include='object')\n",
    "cat"
   ]
  },
  {
   "cell_type": "code",
   "execution_count": 47,
   "id": "549939bf",
   "metadata": {},
   "outputs": [
    {
     "data": {
      "text/plain": [
       "<AxesSubplot:>"
      ]
     },
     "execution_count": 47,
     "metadata": {},
     "output_type": "execute_result"
    },
    {
     "data": {
      "image/png": "[encoded data removed]",
      "text/plain": [
       "<Figure size 576x432 with 1 Axes>"
      ]
     },
     "metadata": {
      "needs_background": "light"
     },
     "output_type": "display_data"
    }
   ],
   "source": [
    "plt.figure(figsize=[8,6])\n",
    "df.boxplot()"
   ]
  },
  {
   "cell_type": "code",
   "execution_count": 48,
   "id": "e0391dd4",
   "metadata": {},
   "outputs": [
    {
     "data": {
      "text/plain": [
       "Index(['ApplicantIncome', 'CoapplicantIncome', 'LoanAmount',\n",
       "       'Loan_Amount_Term', 'Credit_History'],\n",
       "      dtype='object')"
      ]
     },
     "execution_count": 48,
     "metadata": {},
     "output_type": "execute_result"
    }
   ],
   "source": [
    "num=df.select_dtypes(exclude='object')\n",
    "num.columns"
   ]
  },
  {
   "cell_type": "code",
   "execution_count": 49,
   "id": "0ee3f440",
   "metadata": {},
   "outputs": [
    {
     "data": {
      "text/plain": [
       "<AxesSubplot:>"
      ]
     },
     "execution_count": 49,
     "metadata": {},
     "output_type": "execute_result"
    },
    {
     "data": {
      "image/png": "[encoded data removed]",
      "text/plain": [
       "<Figure size 432x288 with 2 Axes>"
      ]
     },
     "metadata": {
      "needs_background": "light"
     },
     "output_type": "display_data"
    }
   ],
   "source": [
    "sns.heatmap(df.corr(),annot=True)"
   ]
  },
  {
   "cell_type": "code",
   "execution_count": 50,
   "id": "19e716a0",
   "metadata": {},
   "outputs": [],
   "source": [
    "#No multi colinearity Present "
   ]
  },
  {
   "cell_type": "code",
   "execution_count": 51,
   "id": "9d824a95",
   "metadata": {},
   "outputs": [
    {
     "data": {
      "text/plain": [
       "Loan_ID              0.000000\n",
       "Gender               2.117264\n",
       "Married              0.488599\n",
       "Dependents           2.442997\n",
       "Education            0.000000\n",
       "Self_Employed        5.211726\n",
       "ApplicantIncome      0.000000\n",
       "CoapplicantIncome    0.000000\n",
       "LoanAmount           3.583062\n",
       "Loan_Amount_Term     2.280130\n",
       "Credit_History       8.143322\n",
       "Property_Area        0.000000\n",
       "Loan_Status          0.000000\n",
       "dtype: float64"
      ]
     },
     "execution_count": 51,
     "metadata": {},
     "output_type": "execute_result"
    }
   ],
   "source": [
    "df.isnull().sum()/len(df)*100"
   ]
  },
  {
   "cell_type": "code",
   "execution_count": 52,
   "id": "893735b5",
   "metadata": {},
   "outputs": [
    {
     "data": {
      "text/plain": [
       "(614, 13)"
      ]
     },
     "execution_count": 52,
     "metadata": {},
     "output_type": "execute_result"
    }
   ],
   "source": [
    "df.shape"
   ]
  },
  {
   "cell_type": "code",
   "execution_count": 53,
   "id": "ada538a4",
   "metadata": {},
   "outputs": [
    {
     "data": {
      "text/plain": [
       "Y    422\n",
       "N    192\n",
       "Name: Loan_Status, dtype: int64"
      ]
     },
     "execution_count": 53,
     "metadata": {},
     "output_type": "execute_result"
    }
   ],
   "source": [
    "df['Loan_Status'].value_counts()"
   ]
  },
  {
   "cell_type": "code",
   "execution_count": 55,
   "id": "6b0594bb",
   "metadata": {},
   "outputs": [],
   "source": [
    "#df['Loan_Status']=pd.get_dummies(df['Loan_Status'],drop_first=True)\n",
    "df['Loan_Status']=pd.get_dummies(df['Loan_Status'],drop_first=True)"
   ]
  },
  {
   "cell_type": "code",
   "execution_count": 210,
   "id": "63bacc38",
   "metadata": {},
   "outputs": [
    {
     "data": {
      "text/plain": [
       "1    422\n",
       "0    192\n",
       "Name: Loan_Status, dtype: int64"
      ]
     },
     "execution_count": 210,
     "metadata": {},
     "output_type": "execute_result"
    }
   ],
   "source": [
    "df['Loan_Status'].value_counts()"
   ]
  },
  {
   "cell_type": "code",
   "execution_count": 57,
   "id": "462de976",
   "metadata": {},
   "outputs": [],
   "source": [
    "df.set_index('Loan_ID',inplace=True)"
   ]
  },
  {
   "cell_type": "code",
   "execution_count": 58,
   "id": "1f8c68de",
   "metadata": {},
   "outputs": [
    {
     "data": {
      "text/plain": [
       "WOE(mono_custom_binning={'ApplicantIncome': array([  150.        ,  3166.        ,  4863.33333333, 81000.        ]),\n",
       "                         'CoapplicantIncome': array([    0.,  1943., 41667.]),\n",
       "                         'Credit_History': array([ 0.,  1., nan]),\n",
       "                         'LoanAmount': array([  9., 110., 151., 700.]),\n",
       "                         'Loan_Amount_Term': array([ 12., 360., 480.])},\n",
       "    woe_bins={'ApplicantIncome': {Interval(149.999, 3166.0, closed='right'): 0.039168631176237693,\n",
       "                                  Interval(316...\n",
       "                                   Interval(360.0, 480.0, closed='right'): -1.1929750501163947,\n",
       "                                   'NA': -0.49982786955644926},\n",
       "              'Married': {'NA': 0.0, 'No': -0.25911799452434037,\n",
       "                          'Yes': 0.13759141954807988},\n",
       "              'Property_Area': {'Rural': -0.3211360808130733,\n",
       "                                'Semiurban': 0.41089181726825036,\n",
       "                                'Urban': -0.1312673183837359},\n",
       "              'Self_Employed': {'NA': 0.1507596965847,\n",
       "                                'No': -0.006025300190598434,\n",
       "                                'Yes': -0.02025478929456287}})"
      ]
     },
     "execution_count": 58,
     "metadata": {},
     "output_type": "execute_result"
    }
   ],
   "source": [
    "X = df.drop('Loan_Status',axis=1)\n",
    "y = df['Loan_Status']\n",
    "from xverse.transformer import WOE\n",
    "clf = WOE()\n",
    "clf.fit(X, y)"
   ]
  },
  {
   "cell_type": "code",
   "execution_count": 62,
   "id": "93f8e388",
   "metadata": {},
   "outputs": [
    {
     "data": {
      "text/html": [
       "<div>\n",
       "<style scoped>\n",
       "    .dataframe tbody tr th:only-of-type {\n",
       "        vertical-align: middle;\n",
       "    }\n",
       "\n",
       "    .dataframe tbody tr th {\n",
       "        vertical-align: top;\n",
       "    }\n",
       "\n",
       "    .dataframe thead th {\n",
       "        text-align: right;\n",
       "    }\n",
       "</style>\n",
       "<table border=\"1\" class=\"dataframe\">\n",
       "  <thead>\n",
       "    <tr style=\"text-align: right;\">\n",
       "      <th></th>\n",
       "      <th>Gender</th>\n",
       "      <th>Married</th>\n",
       "      <th>Dependents</th>\n",
       "      <th>Education</th>\n",
       "      <th>Self_Employed</th>\n",
       "      <th>ApplicantIncome</th>\n",
       "      <th>CoapplicantIncome</th>\n",
       "      <th>LoanAmount</th>\n",
       "      <th>Loan_Amount_Term</th>\n",
       "      <th>Credit_History</th>\n",
       "      <th>Property_Area</th>\n",
       "    </tr>\n",
       "    <tr>\n",
       "      <th>Loan_ID</th>\n",
       "      <th></th>\n",
       "      <th></th>\n",
       "      <th></th>\n",
       "      <th></th>\n",
       "      <th></th>\n",
       "      <th></th>\n",
       "      <th></th>\n",
       "      <th></th>\n",
       "      <th></th>\n",
       "      <th></th>\n",
       "      <th></th>\n",
       "    </tr>\n",
       "  </thead>\n",
       "  <tbody>\n",
       "    <tr>\n",
       "      <th>LP001002</th>\n",
       "      <td>Male</td>\n",
       "      <td>No</td>\n",
       "      <td>0</td>\n",
       "      <td>Graduate</td>\n",
       "      <td>No</td>\n",
       "      <td>5849</td>\n",
       "      <td>0.0</td>\n",
       "      <td>NaN</td>\n",
       "      <td>360.0</td>\n",
       "      <td>1.0</td>\n",
       "      <td>Urban</td>\n",
       "    </tr>\n",
       "    <tr>\n",
       "      <th>LP001003</th>\n",
       "      <td>Male</td>\n",
       "      <td>Yes</td>\n",
       "      <td>1</td>\n",
       "      <td>Graduate</td>\n",
       "      <td>No</td>\n",
       "      <td>4583</td>\n",
       "      <td>1508.0</td>\n",
       "      <td>128.0</td>\n",
       "      <td>360.0</td>\n",
       "      <td>1.0</td>\n",
       "      <td>Rural</td>\n",
       "    </tr>\n",
       "    <tr>\n",
       "      <th>LP001005</th>\n",
       "      <td>Male</td>\n",
       "      <td>Yes</td>\n",
       "      <td>0</td>\n",
       "      <td>Graduate</td>\n",
       "      <td>Yes</td>\n",
       "      <td>3000</td>\n",
       "      <td>0.0</td>\n",
       "      <td>66.0</td>\n",
       "      <td>360.0</td>\n",
       "      <td>1.0</td>\n",
       "      <td>Urban</td>\n",
       "    </tr>\n",
       "  </tbody>\n",
       "</table>\n",
       "</div>"
      ],
      "text/plain": [
       "         Gender Married Dependents Education Self_Employed  ApplicantIncome  \\\n",
       "Loan_ID                                                                       \n",
       "LP001002   Male      No          0  Graduate            No             5849   \n",
       "LP001003   Male     Yes          1  Graduate            No             4583   \n",
       "LP001005   Male     Yes          0  Graduate           Yes             3000   \n",
       "\n",
       "          CoapplicantIncome  LoanAmount  Loan_Amount_Term  Credit_History  \\\n",
       "Loan_ID                                                                     \n",
       "LP001002                0.0         NaN             360.0             1.0   \n",
       "LP001003             1508.0       128.0             360.0             1.0   \n",
       "LP001005                0.0        66.0             360.0             1.0   \n",
       "\n",
       "         Property_Area  \n",
       "Loan_ID                 \n",
       "LP001002         Urban  \n",
       "LP001003         Rural  \n",
       "LP001005         Urban  "
      ]
     },
     "execution_count": 62,
     "metadata": {},
     "output_type": "execute_result"
    }
   ],
   "source": [
    "X.head(3)"
   ]
  },
  {
   "cell_type": "code",
   "execution_count": 64,
   "id": "82334b59",
   "metadata": {},
   "outputs": [
    {
     "data": {
      "text/html": [
       "<div>\n",
       "<style scoped>\n",
       "    .dataframe tbody tr th:only-of-type {\n",
       "        vertical-align: middle;\n",
       "    }\n",
       "\n",
       "    .dataframe tbody tr th {\n",
       "        vertical-align: top;\n",
       "    }\n",
       "\n",
       "    .dataframe thead th {\n",
       "        text-align: right;\n",
       "    }\n",
       "</style>\n",
       "<table border=\"1\" class=\"dataframe\">\n",
       "  <thead>\n",
       "    <tr style=\"text-align: right;\">\n",
       "      <th></th>\n",
       "      <th>Gender</th>\n",
       "      <th>Married</th>\n",
       "      <th>Dependents</th>\n",
       "      <th>Education</th>\n",
       "      <th>Self_Employed</th>\n",
       "      <th>ApplicantIncome</th>\n",
       "      <th>CoapplicantIncome</th>\n",
       "      <th>LoanAmount</th>\n",
       "      <th>Loan_Amount_Term</th>\n",
       "      <th>Credit_History</th>\n",
       "      <th>Property_Area</th>\n",
       "    </tr>\n",
       "    <tr>\n",
       "      <th>Loan_ID</th>\n",
       "      <th></th>\n",
       "      <th></th>\n",
       "      <th></th>\n",
       "      <th></th>\n",
       "      <th></th>\n",
       "      <th></th>\n",
       "      <th></th>\n",
       "      <th></th>\n",
       "      <th></th>\n",
       "      <th></th>\n",
       "      <th></th>\n",
       "    </tr>\n",
       "  </thead>\n",
       "  <tbody>\n",
       "    <tr>\n",
       "      <th>LP001002</th>\n",
       "      <td>0.027855</td>\n",
       "      <td>-0.259118</td>\n",
       "      <td>0.011932</td>\n",
       "      <td>0.099793</td>\n",
       "      <td>-0.006025</td>\n",
       "      <td>-0.020255</td>\n",
       "      <td>-0.046294</td>\n",
       "      <td>-0.787510</td>\n",
       "      <td>0.047607</td>\n",
       "      <td>0.572673</td>\n",
       "      <td>-0.131267</td>\n",
       "    </tr>\n",
       "    <tr>\n",
       "      <th>LP001003</th>\n",
       "      <td>0.027855</td>\n",
       "      <td>0.137591</td>\n",
       "      <td>-0.181374</td>\n",
       "      <td>0.099793</td>\n",
       "      <td>-0.006025</td>\n",
       "      <td>-0.019139</td>\n",
       "      <td>-0.046294</td>\n",
       "      <td>0.250478</td>\n",
       "      <td>0.047607</td>\n",
       "      <td>0.572673</td>\n",
       "      <td>-0.321136</td>\n",
       "    </tr>\n",
       "    <tr>\n",
       "      <th>LP001005</th>\n",
       "      <td>0.027855</td>\n",
       "      <td>0.137591</td>\n",
       "      <td>0.011932</td>\n",
       "      <td>0.099793</td>\n",
       "      <td>-0.020255</td>\n",
       "      <td>0.039169</td>\n",
       "      <td>-0.046294</td>\n",
       "      <td>0.019830</td>\n",
       "      <td>0.047607</td>\n",
       "      <td>0.572673</td>\n",
       "      <td>-0.131267</td>\n",
       "    </tr>\n",
       "    <tr>\n",
       "      <th>LP001006</th>\n",
       "      <td>0.027855</td>\n",
       "      <td>0.137591</td>\n",
       "      <td>0.011932</td>\n",
       "      <td>-0.332034</td>\n",
       "      <td>-0.006025</td>\n",
       "      <td>0.039169</td>\n",
       "      <td>0.094879</td>\n",
       "      <td>0.250478</td>\n",
       "      <td>0.047607</td>\n",
       "      <td>0.572673</td>\n",
       "      <td>-0.131267</td>\n",
       "    </tr>\n",
       "    <tr>\n",
       "      <th>LP001008</th>\n",
       "      <td>0.027855</td>\n",
       "      <td>-0.259118</td>\n",
       "      <td>0.011932</td>\n",
       "      <td>0.099793</td>\n",
       "      <td>-0.006025</td>\n",
       "      <td>-0.020255</td>\n",
       "      <td>-0.046294</td>\n",
       "      <td>0.250478</td>\n",
       "      <td>0.047607</td>\n",
       "      <td>0.572673</td>\n",
       "      <td>-0.131267</td>\n",
       "    </tr>\n",
       "  </tbody>\n",
       "</table>\n",
       "</div>"
      ],
      "text/plain": [
       "            Gender   Married  Dependents  Education  Self_Employed  \\\n",
       "Loan_ID                                                              \n",
       "LP001002  0.027855 -0.259118    0.011932   0.099793      -0.006025   \n",
       "LP001003  0.027855  0.137591   -0.181374   0.099793      -0.006025   \n",
       "LP001005  0.027855  0.137591    0.011932   0.099793      -0.020255   \n",
       "LP001006  0.027855  0.137591    0.011932  -0.332034      -0.006025   \n",
       "LP001008  0.027855 -0.259118    0.011932   0.099793      -0.006025   \n",
       "\n",
       "          ApplicantIncome  CoapplicantIncome  LoanAmount  Loan_Amount_Term  \\\n",
       "Loan_ID                                                                      \n",
       "LP001002        -0.020255          -0.046294   -0.787510          0.047607   \n",
       "LP001003        -0.019139          -0.046294    0.250478          0.047607   \n",
       "LP001005         0.039169          -0.046294    0.019830          0.047607   \n",
       "LP001006         0.039169           0.094879    0.250478          0.047607   \n",
       "LP001008        -0.020255          -0.046294    0.250478          0.047607   \n",
       "\n",
       "          Credit_History  Property_Area  \n",
       "Loan_ID                                  \n",
       "LP001002        0.572673      -0.131267  \n",
       "LP001003        0.572673      -0.321136  \n",
       "LP001005        0.572673      -0.131267  \n",
       "LP001006        0.572673      -0.131267  \n",
       "LP001008        0.572673      -0.131267  "
      ]
     },
     "execution_count": 64,
     "metadata": {},
     "output_type": "execute_result"
    }
   ],
   "source": [
    "X=clf.transform(X)\n",
    "X.head()"
   ]
  },
  {
   "cell_type": "code",
   "execution_count": 116,
   "id": "58c8eda3",
   "metadata": {},
   "outputs": [
    {
     "name": "stdout",
     "output_type": "stream",
     "text": [
      "              precision    recall  f1-score   support\n",
      "\n",
      "           0       0.80      0.47      0.59        51\n",
      "           1       0.71      0.92      0.80        72\n",
      "\n",
      "    accuracy                           0.73       123\n",
      "   macro avg       0.75      0.69      0.70       123\n",
      "weighted avg       0.75      0.73      0.71       123\n",
      "\n",
      "\n",
      "RFC score  0.78008658008658\n",
      "\n",
      "[[24 27]\n",
      " [ 6 66]]\n",
      "train score  0.7739307535641547\n",
      "test score  0.6178861788617886\n"
     ]
    }
   ],
   "source": [
    "Xtrain, Xtest, ytrain, ytest = train_test_split(X, y, test_size= .20,random_state=20)\n",
    "clf = WOE()\n",
    "clf.fit(Xtrain, ytrain)\n",
    "Xtrain = clf.transform(Xtrain)\n",
    "Xtest = clf.transform(Xtest)\n",
    "Rfc=RandomForestClassifier(class_weight='balanced')\n",
    "Rfc_model=Rfc.fit(Xtrain,ytrain)\n",
    "\n",
    "y_pred=Rfc_model.predict(Xtest)\n",
    "\n",
    "print(classification_report(ytest,y_pred))\n",
    "print()\n",
    "\n",
    "print('RFC score ',np.mean(cross_val_score(Rfc,Xtrain,ytrain,cv=5)))\n",
    "print()\n",
    "print(confusion_matrix(ytest,y_pred))\n",
    "\n",
    "\n",
    "print('train score ',dc_model.score(Xtrain,ytrain))\n",
    "\n",
    "print('test score ',dc_model.score(Xtest,ytest))"
   ]
  },
  {
   "cell_type": "code",
   "execution_count": 78,
   "id": "c279b90f",
   "metadata": {},
   "outputs": [
    {
     "data": {
      "text/plain": [
       "{'criterion': 'entropy',\n",
       " 'max_depth': 20,\n",
       " 'min_samples_split': 5,\n",
       " 'n_estimators': 180}"
      ]
     },
     "execution_count": 78,
     "metadata": {},
     "output_type": "execute_result"
    }
   ],
   "source": [
    "param=[{'criterion' :['entropy', 'gini'],\n",
    "'n_estimators' : [ 150,180],\n",
    "'max_depth' : [ 15,20],\n",
    "'min_samples_split' : [2, 5, 8]}]\n",
    "\n",
    "from sklearn.model_selection import GridSearchCV\n",
    "grid=GridSearchCV(estimator=Rfc,param_grid=param)\n",
    "grid_model=grid.fit(Xtrain,ytrain)\n",
    "\n",
    "grid_model.best_params_"
   ]
  },
  {
   "cell_type": "markdown",
   "id": "67bf8727",
   "metadata": {},
   "source": [
    "# Tuned Model -Random Forest "
   ]
  },
  {
   "cell_type": "code",
   "execution_count": 117,
   "id": "4f5a0947",
   "metadata": {},
   "outputs": [
    {
     "name": "stdout",
     "output_type": "stream",
     "text": [
      "              precision    recall  f1-score   support\n",
      "\n",
      "           0       0.81      0.49      0.61        51\n",
      "           1       0.72      0.92      0.80        72\n",
      "\n",
      "    accuracy                           0.74       123\n",
      "   macro avg       0.76      0.70      0.71       123\n",
      "weighted avg       0.75      0.74      0.72       123\n",
      "\n",
      "\n",
      "RFC score  0.7719645433931148\n",
      "\n",
      "[[25 26]\n",
      " [ 6 66]]\n",
      "train score  0.7739307535641547\n",
      "test score  0.6178861788617886\n"
     ]
    }
   ],
   "source": [
    "Xtrain, Xtest, ytrain, ytest = train_test_split(X, y, test_size= .20,random_state=20)\n",
    "clf = WOE()\n",
    "clf.fit(Xtrain, ytrain)\n",
    "Xtrain = clf.transform(Xtrain)\n",
    "Xtest = clf.transform(Xtest)\n",
    "Rfc=RandomForestClassifier(criterion='entropy',max_depth=20,min_samples_split=5,n_estimators=180, class_weight='balanced')\n",
    "Rfc_model=Rfc.fit(Xtrain,ytrain)\n",
    "\n",
    "y_pred=Rfc_model.predict(Xtest)\n",
    "\n",
    "print(classification_report(ytest,y_pred))\n",
    "print()\n",
    "\n",
    "print('RFC score ',np.mean(cross_val_score(Rfc,Xtrain,ytrain,cv=5)))\n",
    "print()\n",
    "print(confusion_matrix(ytest,y_pred))\n",
    "\n",
    "\n",
    "print('train score ',dc_model.score(Xtrain,ytrain))\n",
    "\n",
    "print('test score ',dc_model.score(Xtest,ytest))"
   ]
  },
  {
   "cell_type": "markdown",
   "id": "5b3c733a",
   "metadata": {},
   "source": [
    "# Using Logistic regression"
   ]
  },
  {
   "cell_type": "markdown",
   "id": "32c4a9ce",
   "metadata": {},
   "source": [
    "# Using Decision Tree "
   ]
  },
  {
   "cell_type": "code",
   "execution_count": 87,
   "id": "d8b09ba3",
   "metadata": {},
   "outputs": [
    {
     "name": "stdout",
     "output_type": "stream",
     "text": [
      "              precision    recall  f1-score   support\n",
      "\n",
      "           0       0.66      0.45      0.53        51\n",
      "           1       0.68      0.83      0.75        72\n",
      "\n",
      "    accuracy                           0.67       123\n",
      "   macro avg       0.67      0.64      0.64       123\n",
      "weighted avg       0.67      0.67      0.66       123\n",
      "\n",
      "\n",
      "RFC score  0.7740053597196455\n",
      "\n",
      "[[23 28]\n",
      " [12 60]]\n",
      "train score  0.9531568228105907\n",
      "test score  0.6747967479674797\n"
     ]
    }
   ],
   "source": [
    "from sklearn.tree import DecisionTreeClassifier\n",
    "Xtrain, Xtest, ytrain, ytest = train_test_split(X, y, test_size= .20,random_state=20)\n",
    "clf = WOE()\n",
    "clf.fit(Xtrain, ytrain)\n",
    "Xtrain = clf.transform(Xtrain)\n",
    "Xtest = clf.transform(Xtest)\n",
    "\n",
    "dc=DecisionTreeClassifier(random_state=20)\n",
    "dc_model=dc.fit(Xtrain,ytrain)\n",
    "\n",
    "y_pred=dc_model.predict(Xtest)\n",
    "\n",
    "print(classification_report(ytest,y_pred))\n",
    "print()\n",
    "\n",
    "print('RFC score ',np.mean(cross_val_score(Rfc,Xtrain,ytrain,cv=5)))\n",
    "print()\n",
    "print(confusion_matrix(ytest,y_pred))\n",
    "\n",
    "print('train score ',dc_model.score(Xtrain,ytrain))\n",
    "\n",
    "print('test score ',dc_model.score(Xtest,ytest))"
   ]
  },
  {
   "cell_type": "markdown",
   "id": "058c22a7",
   "metadata": {},
   "source": [
    "# Using Adabosst  Clasifier "
   ]
  },
  {
   "cell_type": "code",
   "execution_count": 88,
   "id": "00515ea5",
   "metadata": {},
   "outputs": [
    {
     "name": "stdout",
     "output_type": "stream",
     "text": [
      "              precision    recall  f1-score   support\n",
      "\n",
      "           0       0.96      0.43      0.59        51\n",
      "           1       0.71      0.99      0.83        72\n",
      "\n",
      "    accuracy                           0.76       123\n",
      "   macro avg       0.83      0.71      0.71       123\n",
      "weighted avg       0.81      0.76      0.73       123\n",
      "\n",
      "\n",
      "RFC score  0.765842094413523\n",
      "\n",
      "[[22 29]\n",
      " [ 1 71]]\n",
      "train score  0.9531568228105907\n",
      "test score  0.6747967479674797\n"
     ]
    }
   ],
   "source": [
    "Xtrain, Xtest, ytrain, ytest = train_test_split(X, y, test_size= .20,random_state=20)\n",
    "clf = WOE()\n",
    "clf.fit(Xtrain, ytrain)\n",
    "Xtrain = clf.transform(Xtrain)\n",
    "Xtest = clf.transform(Xtest)\n",
    "\n",
    "abc=AdaBoostClassifier(random_state=20)\n",
    "abc_model=abc.fit(Xtrain,ytrain)\n",
    "\n",
    "y_pred=abc_model.predict(Xtest)\n",
    "\n",
    "print(classification_report(ytest,y_pred))\n",
    "print()\n",
    "\n",
    "print('RFC score ',np.mean(cross_val_score(Rfc,Xtrain,ytrain,cv=5)))\n",
    "print()\n",
    "print(confusion_matrix(ytest,y_pred))\n",
    "\n",
    "print('train score ',dc_model.score(Xtrain,ytrain))\n",
    "\n",
    "print('test score ',dc_model.score(Xtest,ytest))"
   ]
  },
  {
   "cell_type": "markdown",
   "id": "8f0c8933",
   "metadata": {},
   "source": [
    "# Using XGBoosT "
   ]
  },
  {
   "cell_type": "code",
   "execution_count": 89,
   "id": "3fa9fdc6",
   "metadata": {},
   "outputs": [
    {
     "name": "stdout",
     "output_type": "stream",
     "text": [
      "[21:38:39] WARNING: C:/Users/Administrator/workspace/xgboost-win64_release_1.4.0/src/learner.cc:1095: Starting in XGBoost 1.3.0, the default evaluation metric used with the objective 'binary:logistic' was changed from 'error' to 'logloss'. Explicitly set eval_metric if you'd like to restore the old behavior.\n",
      "              precision    recall  f1-score   support\n",
      "\n",
      "           0       0.76      0.49      0.60        51\n",
      "           1       0.71      0.89      0.79        72\n",
      "\n",
      "    accuracy                           0.72       123\n",
      "   macro avg       0.73      0.69      0.69       123\n",
      "weighted avg       0.73      0.72      0.71       123\n",
      "\n",
      "\n",
      "RFC score  0.7821067821067821\n",
      "\n",
      "[[25 26]\n",
      " [ 8 64]]\n",
      "train score  0.9531568228105907\n",
      "test score  0.6747967479674797\n"
     ]
    }
   ],
   "source": [
    "from xgboost import XGBClassifier\n",
    "\n",
    "Xtrain, Xtest, ytrain, ytest = train_test_split(X, y, test_size= .20,random_state=20)\n",
    "clf = WOE()\n",
    "clf.fit(Xtrain, ytrain)\n",
    "Xtrain = clf.transform(Xtrain)\n",
    "Xtest = clf.transform(Xtest)\n",
    "\n",
    "xgb=XGBClassifier(random_state=20)\n",
    "xgb_model=xgb.fit(Xtrain,ytrain)\n",
    "y_pred=xgb_model.predict(Xtest)\n",
    "\n",
    "print(classification_report(ytest,y_pred))\n",
    "print()\n",
    "\n",
    "print('RFC score ',np.mean(cross_val_score(Rfc,Xtrain,ytrain,cv=5)))\n",
    "print()\n",
    "print(confusion_matrix(ytest,y_pred))\n",
    "\n",
    "print('train score ',dc_model.score(Xtrain,ytrain))\n",
    "\n",
    "print('test score ',dc_model.score(Xtest,ytest))"
   ]
  },
  {
   "cell_type": "code",
   "execution_count": 90,
   "id": "34ed03b7",
   "metadata": {},
   "outputs": [],
   "source": [
    "params=({'n_estimators' : [100, 120, 150],\n",
    "    'learning_rate' :[0.1, 0.01, 0.001, 0.15, 0.015], \n",
    "    'gamma' : [2, 3, 4, 5, 6],\n",
    "    'max_depth' : [2, 3, 4, 5, 6]})"
   ]
  },
  {
   "cell_type": "code",
   "execution_count": 91,
   "id": "52265fa9",
   "metadata": {
    "scrolled": true
   },
   "outputs": [
    {
     "name": "stdout",
     "output_type": "stream",
     "text": [
      "[21:39:56] WARNING: C:/Users/Administrator/workspace/xgboost-win64_release_1.4.0/src/learner.cc:573: \n",
      "Parameters: { \"criterion\", \"min_samples_split\" } might not be used.\n",
      "\n",
      "  This may not be accurate due to some parameters are only used in language bindings but\n",
      "  passed down to XGBoost core.  Or some parameters are not used but slip through this\n",
      "  verification. Please open an issue if you find above cases.\n",
      "\n",
      "\n",
      "[21:39:56] WARNING: C:/Users/Administrator/workspace/xgboost-win64_release_1.4.0/src/learner.cc:1095: Starting in XGBoost 1.3.0, the default evaluation metric used with the objective 'binary:logistic' was changed from 'error' to 'logloss'. Explicitly set eval_metric if you'd like to restore the old behavior.\n"
     ]
    },
    {
     "data": {
      "text/plain": [
       "{'criterion': 'entropy',\n",
       " 'max_depth': 15,\n",
       " 'min_samples_split': 2,\n",
       " 'n_estimators': 150}"
      ]
     },
     "execution_count": 91,
     "metadata": {},
     "output_type": "execute_result"
    }
   ],
   "source": [
    "grid=GridSearchCV(estimator=xgb,param_grid=param,cv=3,n_jobs=-1)\n",
    "grid_model=grid.fit(Xtrain,ytrain)\n",
    "grid_model.best_params_"
   ]
  },
  {
   "cell_type": "code",
   "execution_count": 95,
   "id": "db104d17",
   "metadata": {},
   "outputs": [
    {
     "name": "stdout",
     "output_type": "stream",
     "text": [
      "[21:42:47] WARNING: C:/Users/Administrator/workspace/xgboost-win64_release_1.4.0/src/learner.cc:573: \n",
      "Parameters: { \"criterion\", \"min_samples_split\" } might not be used.\n",
      "\n",
      "  This may not be accurate due to some parameters are only used in language bindings but\n",
      "  passed down to XGBoost core.  Or some parameters are not used but slip through this\n",
      "  verification. Please open an issue if you find above cases.\n",
      "\n",
      "\n",
      "[21:42:47] WARNING: C:/Users/Administrator/workspace/xgboost-win64_release_1.4.0/src/learner.cc:1095: Starting in XGBoost 1.3.0, the default evaluation metric used with the objective 'binary:logistic' was changed from 'error' to 'logloss'. Explicitly set eval_metric if you'd like to restore the old behavior.\n",
      "              precision    recall  f1-score   support\n",
      "\n",
      "           0       0.75      0.47      0.58        51\n",
      "           1       0.70      0.89      0.79        72\n",
      "\n",
      "    accuracy                           0.72       123\n",
      "   macro avg       0.73      0.68      0.68       123\n",
      "weighted avg       0.72      0.72      0.70       123\n",
      "\n",
      "\n",
      "RFC score  0.7719233147804576\n",
      "\n",
      "[[25 26]\n",
      " [ 8 64]]\n",
      "train score  0.9531568228105907\n",
      "test score  0.6747967479674797\n"
     ]
    }
   ],
   "source": [
    "xgb1=XGBClassifier(random_state=10,criterion='entropy',max_depth=15,min_samples_split=2, n_estimators=150)\n",
    "\n",
    "xgb1_model1=xgb1.fit(Xtrain,ytrain)\n",
    "\n",
    "y_pred04=xgb1_model1.predict(Xtest)\n",
    "\n",
    "print(classification_report(ytest,y_pred04))\n",
    "print()\n",
    "\n",
    "print('RFC score ',np.mean(cross_val_score(Rfc,Xtrain,ytrain,cv=5)))\n",
    "print()\n",
    "print(confusion_matrix(ytest,y_pred))\n",
    "\n",
    "print('train score ',dc_model.score(Xtrain,ytrain))\n",
    "\n",
    "print('test score ',dc_model.score(Xtest,ytest))"
   ]
  },
  {
   "cell_type": "markdown",
   "id": "31720f58",
   "metadata": {},
   "source": [
    "# Using Stacking classfier "
   ]
  },
  {
   "cell_type": "code",
   "execution_count": 96,
   "id": "f96ea4b2",
   "metadata": {},
   "outputs": [],
   "source": [
    "from sklearn.ensemble import StackingClassifier\n",
    "\n",
    "base_learners = [('dt_model',DecisionTreeClassifier()),\n",
    "                 ('rf_model',RandomForestClassifier())]\n",
    "\n",
    "stack=StackingClassifier(estimators=base_learners,final_estimator=AdaBoostClassifier())\n",
    "\n",
    "sc_model=stack.fit(Xtrain,ytrain)"
   ]
  },
  {
   "cell_type": "code",
   "execution_count": 98,
   "id": "477381cd",
   "metadata": {},
   "outputs": [
    {
     "name": "stdout",
     "output_type": "stream",
     "text": [
      "              precision    recall  f1-score   support\n",
      "\n",
      "           0       0.90      0.37      0.53        51\n",
      "           1       0.69      0.97      0.80        72\n",
      "\n",
      "    accuracy                           0.72       123\n",
      "   macro avg       0.80      0.67      0.67       123\n",
      "weighted avg       0.78      0.72      0.69       123\n",
      "\n",
      "\n",
      "RFC score  0.7760049474335189\n",
      "\n",
      "[[19 32]\n",
      " [ 2 70]]\n",
      "train score  0.9531568228105907\n",
      "test score  0.6747967479674797\n"
     ]
    }
   ],
   "source": [
    "stack=StackingClassifier(estimators=base_learners,final_estimator=AdaBoostClassifier())\n",
    "\n",
    "sc_model=stack.fit(Xtrain,ytrain)\n",
    "\n",
    "y_pred=sc_model.predict(Xtest)\n",
    "print(classification_report(ytest,y_pred))\n",
    "print()\n",
    "\n",
    "print('RFC score ',np.mean(cross_val_score(Rfc,Xtrain,ytrain,cv=5)))\n",
    "print()\n",
    "print(confusion_matrix(ytest,y_pred))\n",
    "\n",
    "print('train score ',dc_model.score(Xtrain,ytrain))\n",
    "\n",
    "print('test score ',dc_model.score(Xtest,ytest))\n"
   ]
  },
  {
   "cell_type": "markdown",
   "id": "28fc5e26",
   "metadata": {},
   "source": [
    "# Test Data"
   ]
  },
  {
   "cell_type": "code",
   "execution_count": 180,
   "id": "509d53c7",
   "metadata": {},
   "outputs": [],
   "source": [
    "test=pd.read_csv('C:/Users/Naman/Downloads/naman python/ana lytics/loan prediction/test_lAUu6dG (2).csv')\n",
    "test.set_index('Loan_ID',inplace=True)              "
   ]
  },
  {
   "cell_type": "code",
   "execution_count": 181,
   "id": "ac08a8b3",
   "metadata": {},
   "outputs": [],
   "source": [
    "test[\"ApplicantIncome\"] = pd.to_numeric(test[\"ApplicantIncome\"])\n",
    "test.loc[test['ApplicantIncome']=='NA','ApplicantIncome']=np.nan"
   ]
  },
  {
   "cell_type": "code",
   "execution_count": 182,
   "id": "1fb87662",
   "metadata": {},
   "outputs": [
    {
     "data": {
      "text/plain": [
       "Gender                object\n",
       "Married               object\n",
       "Dependents            object\n",
       "Education             object\n",
       "Self_Employed         object\n",
       "ApplicantIncome      float64\n",
       "CoapplicantIncome      int64\n",
       "LoanAmount           float64\n",
       "Loan_Amount_Term     float64\n",
       "Credit_History       float64\n",
       "Property_Area         object\n",
       "dtype: object"
      ]
     },
     "execution_count": 182,
     "metadata": {},
     "output_type": "execute_result"
    }
   ],
   "source": [
    "test.dtypes"
   ]
  },
  {
   "cell_type": "code",
   "execution_count": 183,
   "id": "591fccdb",
   "metadata": {},
   "outputs": [
    {
     "data": {
      "text/plain": [
       "WOE(mono_custom_binning={'ApplicantIncome': array([  150.        ,  3166.        ,  4863.33333333, 81000.        ]),\n",
       "                         'CoapplicantIncome': array([    0.,  1943., 41667.]),\n",
       "                         'Credit_History': array([ 0.,  1., nan]),\n",
       "                         'LoanAmount': array([  9., 110., 151., 700.]),\n",
       "                         'Loan_Amount_Term': array([ 12., 360., 480.])},\n",
       "    woe_bins={'ApplicantIncome': {Interval(149.999, 3166.0, closed='right'): 0.039168631176237693,\n",
       "                                  Interval(316...\n",
       "                                   Interval(360.0, 480.0, closed='right'): -1.1929750501163947,\n",
       "                                   'NA': -0.49982786955644926},\n",
       "              'Married': {'NA': 0.0, 'No': -0.25911799452434037,\n",
       "                          'Yes': 0.13759141954807988},\n",
       "              'Property_Area': {'Rural': -0.3211360808130733,\n",
       "                                'Semiurban': 0.41089181726825036,\n",
       "                                'Urban': -0.1312673183837359},\n",
       "              'Self_Employed': {'NA': 0.1507596965847,\n",
       "                                'No': -0.006025300190598434,\n",
       "                                'Yes': -0.02025478929456287}})"
      ]
     },
     "execution_count": 183,
     "metadata": {},
     "output_type": "execute_result"
    }
   ],
   "source": [
    "X = df.drop('Loan_Status',axis=1)\n",
    "y = df['Loan_Status']\n",
    "from xverse.transformer import WOE\n",
    "clf = WOE()\n",
    "clf.fit(X, y)"
   ]
  },
  {
   "cell_type": "code",
   "execution_count": 184,
   "id": "fd49a8aa",
   "metadata": {},
   "outputs": [],
   "source": [
    "X_test_=clf.transform(test)"
   ]
  },
  {
   "cell_type": "code",
   "execution_count": 185,
   "id": "05fa3dcc",
   "metadata": {},
   "outputs": [
    {
     "data": {
      "text/plain": [
       "Gender               0\n",
       "Married              0\n",
       "Dependents           0\n",
       "Education            0\n",
       "Self_Employed        0\n",
       "ApplicantIncome      0\n",
       "CoapplicantIncome    0\n",
       "LoanAmount           0\n",
       "Loan_Amount_Term     0\n",
       "Credit_History       0\n",
       "Property_Area        0\n",
       "dtype: int64"
      ]
     },
     "execution_count": 185,
     "metadata": {},
     "output_type": "execute_result"
    }
   ],
   "source": [
    "X_test_.isnull().sum()"
   ]
  },
  {
   "cell_type": "code",
   "execution_count": 186,
   "id": "cc6e7138",
   "metadata": {},
   "outputs": [
    {
     "data": {
      "text/html": [
       "<div>\n",
       "<style scoped>\n",
       "    .dataframe tbody tr th:only-of-type {\n",
       "        vertical-align: middle;\n",
       "    }\n",
       "\n",
       "    .dataframe tbody tr th {\n",
       "        vertical-align: top;\n",
       "    }\n",
       "\n",
       "    .dataframe thead th {\n",
       "        text-align: right;\n",
       "    }\n",
       "</style>\n",
       "<table border=\"1\" class=\"dataframe\">\n",
       "  <thead>\n",
       "    <tr style=\"text-align: right;\">\n",
       "      <th></th>\n",
       "      <th>Gender</th>\n",
       "      <th>Married</th>\n",
       "      <th>Dependents</th>\n",
       "      <th>Education</th>\n",
       "      <th>Self_Employed</th>\n",
       "      <th>ApplicantIncome</th>\n",
       "      <th>CoapplicantIncome</th>\n",
       "      <th>LoanAmount</th>\n",
       "      <th>Loan_Amount_Term</th>\n",
       "      <th>Credit_History</th>\n",
       "      <th>Property_Area</th>\n",
       "    </tr>\n",
       "    <tr>\n",
       "      <th>Loan_ID</th>\n",
       "      <th></th>\n",
       "      <th></th>\n",
       "      <th></th>\n",
       "      <th></th>\n",
       "      <th></th>\n",
       "      <th></th>\n",
       "      <th></th>\n",
       "      <th></th>\n",
       "      <th></th>\n",
       "      <th></th>\n",
       "      <th></th>\n",
       "    </tr>\n",
       "  </thead>\n",
       "  <tbody>\n",
       "    <tr>\n",
       "      <th>LP001015</th>\n",
       "      <td>0.027855</td>\n",
       "      <td>0.137591</td>\n",
       "      <td>0.011932</td>\n",
       "      <td>0.099793</td>\n",
       "      <td>-0.006025</td>\n",
       "      <td>-0.020255</td>\n",
       "      <td>-0.046294</td>\n",
       "      <td>0.019830</td>\n",
       "      <td>0.047607</td>\n",
       "      <td>0.572673</td>\n",
       "      <td>-0.131267</td>\n",
       "    </tr>\n",
       "    <tr>\n",
       "      <th>LP001022</th>\n",
       "      <td>0.027855</td>\n",
       "      <td>0.137591</td>\n",
       "      <td>-0.181374</td>\n",
       "      <td>0.099793</td>\n",
       "      <td>-0.006025</td>\n",
       "      <td>0.039169</td>\n",
       "      <td>-0.046294</td>\n",
       "      <td>0.250478</td>\n",
       "      <td>0.047607</td>\n",
       "      <td>0.572673</td>\n",
       "      <td>-0.131267</td>\n",
       "    </tr>\n",
       "  </tbody>\n",
       "</table>\n",
       "</div>"
      ],
      "text/plain": [
       "            Gender   Married  Dependents  Education  Self_Employed  \\\n",
       "Loan_ID                                                              \n",
       "LP001015  0.027855  0.137591    0.011932   0.099793      -0.006025   \n",
       "LP001022  0.027855  0.137591   -0.181374   0.099793      -0.006025   \n",
       "\n",
       "         ApplicantIncome  CoapplicantIncome  LoanAmount  Loan_Amount_Term  \\\n",
       "Loan_ID                                                                     \n",
       "LP001015       -0.020255          -0.046294    0.019830          0.047607   \n",
       "LP001022        0.039169          -0.046294    0.250478          0.047607   \n",
       "\n",
       "          Credit_History  Property_Area  \n",
       "Loan_ID                                  \n",
       "LP001015        0.572673      -0.131267  \n",
       "LP001022        0.572673      -0.131267  "
      ]
     },
     "execution_count": 186,
     "metadata": {},
     "output_type": "execute_result"
    }
   ],
   "source": [
    "X_test_.head(2)"
   ]
  },
  {
   "cell_type": "code",
   "execution_count": 187,
   "id": "8ef3f319",
   "metadata": {},
   "outputs": [],
   "source": [
    "X_test_.loc[X_test_['ApplicantIncome']=='NA','ApplicantIncome']=np.nan\n",
    "X_test_[\"ApplicantIncome\"] = pd.to_numeric(X_test_[\"ApplicantIncome\"])"
   ]
  },
  {
   "cell_type": "code",
   "execution_count": 199,
   "id": "5b77db40",
   "metadata": {},
   "outputs": [],
   "source": [
    "X_test_[\"ApplicantIncome\"]=X_test_[\"ApplicantIncome\"].fillna(np.mean(X_test_[\"ApplicantIncome\"]))"
   ]
  },
  {
   "cell_type": "code",
   "execution_count": 200,
   "id": "74cc6499",
   "metadata": {},
   "outputs": [
    {
     "data": {
      "text/plain": [
       "Gender               0\n",
       "Married              0\n",
       "Dependents           0\n",
       "Education            0\n",
       "Self_Employed        0\n",
       "ApplicantIncome      0\n",
       "CoapplicantIncome    0\n",
       "LoanAmount           0\n",
       "Loan_Amount_Term     0\n",
       "Credit_History       0\n",
       "Property_Area        0\n",
       "dtype: int64"
      ]
     },
     "execution_count": 200,
     "metadata": {},
     "output_type": "execute_result"
    }
   ],
   "source": [
    "X_test_.isnull().sum()"
   ]
  },
  {
   "cell_type": "markdown",
   "id": "eb6bdeab",
   "metadata": {},
   "source": [
    "# Random Forest Model"
   ]
  },
  {
   "cell_type": "code",
   "execution_count": 201,
   "id": "9dbb04bf",
   "metadata": {},
   "outputs": [],
   "source": [
    "Xtrain, Xtest, ytrain, ytest = train_test_split(X, y, test_size= .20,random_state=20)\n",
    "clf = WOE()\n",
    "clf.fit(Xtrain, ytrain)\n",
    "Xtrain = clf.transform(Xtrain)\n",
    "Xtest = clf.transform(Xtest)\n",
    "Rfc=RandomForestClassifier(criterion='entropy',max_depth=20,min_samples_split=5,n_estimators=180, class_weight='balanced')\n",
    "Rfc_model=Rfc.fit(Xtrain,ytrain)\n"
   ]
  },
  {
   "cell_type": "code",
   "execution_count": 202,
   "id": "4ec647d8",
   "metadata": {},
   "outputs": [],
   "source": [
    "\n",
    "y_pred_Final =Rfc_model.predict(X_test_)\n"
   ]
  },
  {
   "cell_type": "code",
   "execution_count": 205,
   "id": "6c741628",
   "metadata": {},
   "outputs": [
    {
     "data": {
      "text/plain": [
       "1    267\n",
       "0    100\n",
       "dtype: int64"
      ]
     },
     "execution_count": 205,
     "metadata": {},
     "output_type": "execute_result"
    }
   ],
   "source": [
    "pd.Series(y_pred_Final).value_counts()"
   ]
  },
  {
   "cell_type": "code",
   "execution_count": 215,
   "id": "f3e78d35",
   "metadata": {},
   "outputs": [],
   "source": [
    "df_final=pd.DataFrame({'Loan_ID':test.index,'Loan_Status':y_pred_Final})\n",
    "df_final['Loan_Status']=df_final['Loan_Status'].map({1:'Y',0:'N'})"
   ]
  },
  {
   "cell_type": "code",
   "execution_count": 216,
   "id": "de859703",
   "metadata": {},
   "outputs": [
    {
     "data": {
      "text/html": [
       "<div>\n",
       "<style scoped>\n",
       "    .dataframe tbody tr th:only-of-type {\n",
       "        vertical-align: middle;\n",
       "    }\n",
       "\n",
       "    .dataframe tbody tr th {\n",
       "        vertical-align: top;\n",
       "    }\n",
       "\n",
       "    .dataframe thead th {\n",
       "        text-align: right;\n",
       "    }\n",
       "</style>\n",
       "<table border=\"1\" class=\"dataframe\">\n",
       "  <thead>\n",
       "    <tr style=\"text-align: right;\">\n",
       "      <th></th>\n",
       "      <th>Loan_ID</th>\n",
       "      <th>Loan_Status</th>\n",
       "    </tr>\n",
       "  </thead>\n",
       "  <tbody>\n",
       "    <tr>\n",
       "      <th>0</th>\n",
       "      <td>LP001015</td>\n",
       "      <td>Y</td>\n",
       "    </tr>\n",
       "    <tr>\n",
       "      <th>1</th>\n",
       "      <td>LP001022</td>\n",
       "      <td>Y</td>\n",
       "    </tr>\n",
       "    <tr>\n",
       "      <th>2</th>\n",
       "      <td>LP001031</td>\n",
       "      <td>Y</td>\n",
       "    </tr>\n",
       "    <tr>\n",
       "      <th>3</th>\n",
       "      <td>LP001035</td>\n",
       "      <td>Y</td>\n",
       "    </tr>\n",
       "    <tr>\n",
       "      <th>4</th>\n",
       "      <td>LP001051</td>\n",
       "      <td>N</td>\n",
       "    </tr>\n",
       "    <tr>\n",
       "      <th>...</th>\n",
       "      <td>...</td>\n",
       "      <td>...</td>\n",
       "    </tr>\n",
       "    <tr>\n",
       "      <th>362</th>\n",
       "      <td>LP002971</td>\n",
       "      <td>Y</td>\n",
       "    </tr>\n",
       "    <tr>\n",
       "      <th>363</th>\n",
       "      <td>LP002975</td>\n",
       "      <td>Y</td>\n",
       "    </tr>\n",
       "    <tr>\n",
       "      <th>364</th>\n",
       "      <td>LP002980</td>\n",
       "      <td>Y</td>\n",
       "    </tr>\n",
       "    <tr>\n",
       "      <th>365</th>\n",
       "      <td>LP002986</td>\n",
       "      <td>N</td>\n",
       "    </tr>\n",
       "    <tr>\n",
       "      <th>366</th>\n",
       "      <td>LP002989</td>\n",
       "      <td>Y</td>\n",
       "    </tr>\n",
       "  </tbody>\n",
       "</table>\n",
       "<p>367 rows × 2 columns</p>\n",
       "</div>"
      ],
      "text/plain": [
       "      Loan_ID Loan_Status\n",
       "0    LP001015           Y\n",
       "1    LP001022           Y\n",
       "2    LP001031           Y\n",
       "3    LP001035           Y\n",
       "4    LP001051           N\n",
       "..        ...         ...\n",
       "362  LP002971           Y\n",
       "363  LP002975           Y\n",
       "364  LP002980           Y\n",
       "365  LP002986           N\n",
       "366  LP002989           Y\n",
       "\n",
       "[367 rows x 2 columns]"
      ]
     },
     "execution_count": 216,
     "metadata": {},
     "output_type": "execute_result"
    }
   ],
   "source": [
    "df_final"
   ]
  },
  {
   "cell_type": "code",
   "execution_count": 218,
   "id": "203e8a20",
   "metadata": {},
   "outputs": [],
   "source": [
    "df_final.to_csv('Final_Status.csv')\n",
    "\n"
   ]
  },
  {
   "cell_type": "code",
   "execution_count": null,
   "id": "3aff7d12",
   "metadata": {},
   "outputs": [],
   "source": []
  }
 ],
 "metadata": {
  "kernelspec": {
   "display_name": "Python 3",
   "language": "python",
   "name": "python3"
  },
  "language_info": {
   "codemirror_mode": {
    "name": "ipython",
    "version": 3
   },
   "file_extension": ".py",
   "mimetype": "text/x-python",
   "name": "python",
   "nbconvert_exporter": "python",
   "pygments_lexer": "ipython3",
   "version": "3.8.8"
  }
 },
 "nbformat": 4,
 "nbformat_minor": 5
}
